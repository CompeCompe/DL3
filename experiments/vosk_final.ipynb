{
  "nbformat": 4,
  "nbformat_minor": 0,
  "metadata": {
    "colab": {
      "provenance": [],
      "collapsed_sections": []
    },
    "kernelspec": {
      "name": "python3",
      "display_name": "Python 3"
    },
    "language_info": {
      "name": "python"
    },
    "widgets": {
      "application/vnd.jupyter.widget-state+json": {
        "bb2c6b887a8a4a9a8fc5387d63f607f6": {
          "model_module": "@jupyter-widgets/controls",
          "model_name": "HBoxModel",
          "model_module_version": "1.5.0",
          "state": {
            "_dom_classes": [],
            "_model_module": "@jupyter-widgets/controls",
            "_model_module_version": "1.5.0",
            "_model_name": "HBoxModel",
            "_view_count": null,
            "_view_module": "@jupyter-widgets/controls",
            "_view_module_version": "1.5.0",
            "_view_name": "HBoxView",
            "box_style": "",
            "children": [
              "IPY_MODEL_945b2448628746dc96dc212d95813d2e",
              "IPY_MODEL_1558af0054a44a30878535621f814dfd",
              "IPY_MODEL_63e2b724814d407daa6da5c831b95cb3"
            ],
            "layout": "IPY_MODEL_9affd25b2f64421c8ec5042b4558205c"
          }
        },
        "945b2448628746dc96dc212d95813d2e": {
          "model_module": "@jupyter-widgets/controls",
          "model_name": "HTMLModel",
          "model_module_version": "1.5.0",
          "state": {
            "_dom_classes": [],
            "_model_module": "@jupyter-widgets/controls",
            "_model_module_version": "1.5.0",
            "_model_name": "HTMLModel",
            "_view_count": null,
            "_view_module": "@jupyter-widgets/controls",
            "_view_module_version": "1.5.0",
            "_view_name": "HTMLView",
            "description": "",
            "description_tooltip": null,
            "layout": "IPY_MODEL_ca81ffa5dcfe45e689462a60ae06f1fd",
            "placeholder": "​",
            "style": "IPY_MODEL_96b88a5a119c4bc4906269ec051752db",
            "value": "Transcription finished: 100%"
          }
        },
        "1558af0054a44a30878535621f814dfd": {
          "model_module": "@jupyter-widgets/controls",
          "model_name": "FloatProgressModel",
          "model_module_version": "1.5.0",
          "state": {
            "_dom_classes": [],
            "_model_module": "@jupyter-widgets/controls",
            "_model_module_version": "1.5.0",
            "_model_name": "FloatProgressModel",
            "_view_count": null,
            "_view_module": "@jupyter-widgets/controls",
            "_view_module_version": "1.5.0",
            "_view_name": "ProgressView",
            "bar_style": "danger",
            "description": "",
            "description_tooltip": null,
            "layout": "IPY_MODEL_3e1ce897b281444881816550a4638c44",
            "max": 333842,
            "min": 0,
            "orientation": "horizontal",
            "style": "IPY_MODEL_9029815157d04f0fa028c6de136765b4",
            "value": 333760
          }
        },
        "63e2b724814d407daa6da5c831b95cb3": {
          "model_module": "@jupyter-widgets/controls",
          "model_name": "HTMLModel",
          "model_module_version": "1.5.0",
          "state": {
            "_dom_classes": [],
            "_model_module": "@jupyter-widgets/controls",
            "_model_module_version": "1.5.0",
            "_model_name": "HTMLModel",
            "_view_count": null,
            "_view_module": "@jupyter-widgets/controls",
            "_view_module_version": "1.5.0",
            "_view_name": "HTMLView",
            "description": "",
            "description_tooltip": null,
            "layout": "IPY_MODEL_84f5539bf3cb420393180d8a482bdbd7",
            "placeholder": "​",
            "style": "IPY_MODEL_90a86b0695df40d7be7f4efa642560b4",
            "value": " 333760/333842 [00:48&lt;00:00, 144056.62it/s]"
          }
        },
        "9affd25b2f64421c8ec5042b4558205c": {
          "model_module": "@jupyter-widgets/base",
          "model_name": "LayoutModel",
          "model_module_version": "1.2.0",
          "state": {
            "_model_module": "@jupyter-widgets/base",
            "_model_module_version": "1.2.0",
            "_model_name": "LayoutModel",
            "_view_count": null,
            "_view_module": "@jupyter-widgets/base",
            "_view_module_version": "1.2.0",
            "_view_name": "LayoutView",
            "align_content": null,
            "align_items": null,
            "align_self": null,
            "border": null,
            "bottom": null,
            "display": null,
            "flex": null,
            "flex_flow": null,
            "grid_area": null,
            "grid_auto_columns": null,
            "grid_auto_flow": null,
            "grid_auto_rows": null,
            "grid_column": null,
            "grid_gap": null,
            "grid_row": null,
            "grid_template_areas": null,
            "grid_template_columns": null,
            "grid_template_rows": null,
            "height": null,
            "justify_content": null,
            "justify_items": null,
            "left": null,
            "margin": null,
            "max_height": null,
            "max_width": null,
            "min_height": null,
            "min_width": null,
            "object_fit": null,
            "object_position": null,
            "order": null,
            "overflow": null,
            "overflow_x": null,
            "overflow_y": null,
            "padding": null,
            "right": null,
            "top": null,
            "visibility": null,
            "width": null
          }
        },
        "ca81ffa5dcfe45e689462a60ae06f1fd": {
          "model_module": "@jupyter-widgets/base",
          "model_name": "LayoutModel",
          "model_module_version": "1.2.0",
          "state": {
            "_model_module": "@jupyter-widgets/base",
            "_model_module_version": "1.2.0",
            "_model_name": "LayoutModel",
            "_view_count": null,
            "_view_module": "@jupyter-widgets/base",
            "_view_module_version": "1.2.0",
            "_view_name": "LayoutView",
            "align_content": null,
            "align_items": null,
            "align_self": null,
            "border": null,
            "bottom": null,
            "display": null,
            "flex": null,
            "flex_flow": null,
            "grid_area": null,
            "grid_auto_columns": null,
            "grid_auto_flow": null,
            "grid_auto_rows": null,
            "grid_column": null,
            "grid_gap": null,
            "grid_row": null,
            "grid_template_areas": null,
            "grid_template_columns": null,
            "grid_template_rows": null,
            "height": null,
            "justify_content": null,
            "justify_items": null,
            "left": null,
            "margin": null,
            "max_height": null,
            "max_width": null,
            "min_height": null,
            "min_width": null,
            "object_fit": null,
            "object_position": null,
            "order": null,
            "overflow": null,
            "overflow_x": null,
            "overflow_y": null,
            "padding": null,
            "right": null,
            "top": null,
            "visibility": null,
            "width": null
          }
        },
        "96b88a5a119c4bc4906269ec051752db": {
          "model_module": "@jupyter-widgets/controls",
          "model_name": "DescriptionStyleModel",
          "model_module_version": "1.5.0",
          "state": {
            "_model_module": "@jupyter-widgets/controls",
            "_model_module_version": "1.5.0",
            "_model_name": "DescriptionStyleModel",
            "_view_count": null,
            "_view_module": "@jupyter-widgets/base",
            "_view_module_version": "1.2.0",
            "_view_name": "StyleView",
            "description_width": ""
          }
        },
        "3e1ce897b281444881816550a4638c44": {
          "model_module": "@jupyter-widgets/base",
          "model_name": "LayoutModel",
          "model_module_version": "1.2.0",
          "state": {
            "_model_module": "@jupyter-widgets/base",
            "_model_module_version": "1.2.0",
            "_model_name": "LayoutModel",
            "_view_count": null,
            "_view_module": "@jupyter-widgets/base",
            "_view_module_version": "1.2.0",
            "_view_name": "LayoutView",
            "align_content": null,
            "align_items": null,
            "align_self": null,
            "border": null,
            "bottom": null,
            "display": null,
            "flex": null,
            "flex_flow": null,
            "grid_area": null,
            "grid_auto_columns": null,
            "grid_auto_flow": null,
            "grid_auto_rows": null,
            "grid_column": null,
            "grid_gap": null,
            "grid_row": null,
            "grid_template_areas": null,
            "grid_template_columns": null,
            "grid_template_rows": null,
            "height": null,
            "justify_content": null,
            "justify_items": null,
            "left": null,
            "margin": null,
            "max_height": null,
            "max_width": null,
            "min_height": null,
            "min_width": null,
            "object_fit": null,
            "object_position": null,
            "order": null,
            "overflow": null,
            "overflow_x": null,
            "overflow_y": null,
            "padding": null,
            "right": null,
            "top": null,
            "visibility": null,
            "width": null
          }
        },
        "9029815157d04f0fa028c6de136765b4": {
          "model_module": "@jupyter-widgets/controls",
          "model_name": "ProgressStyleModel",
          "model_module_version": "1.5.0",
          "state": {
            "_model_module": "@jupyter-widgets/controls",
            "_model_module_version": "1.5.0",
            "_model_name": "ProgressStyleModel",
            "_view_count": null,
            "_view_module": "@jupyter-widgets/base",
            "_view_module_version": "1.2.0",
            "_view_name": "StyleView",
            "bar_color": null,
            "description_width": ""
          }
        },
        "84f5539bf3cb420393180d8a482bdbd7": {
          "model_module": "@jupyter-widgets/base",
          "model_name": "LayoutModel",
          "model_module_version": "1.2.0",
          "state": {
            "_model_module": "@jupyter-widgets/base",
            "_model_module_version": "1.2.0",
            "_model_name": "LayoutModel",
            "_view_count": null,
            "_view_module": "@jupyter-widgets/base",
            "_view_module_version": "1.2.0",
            "_view_name": "LayoutView",
            "align_content": null,
            "align_items": null,
            "align_self": null,
            "border": null,
            "bottom": null,
            "display": null,
            "flex": null,
            "flex_flow": null,
            "grid_area": null,
            "grid_auto_columns": null,
            "grid_auto_flow": null,
            "grid_auto_rows": null,
            "grid_column": null,
            "grid_gap": null,
            "grid_row": null,
            "grid_template_areas": null,
            "grid_template_columns": null,
            "grid_template_rows": null,
            "height": null,
            "justify_content": null,
            "justify_items": null,
            "left": null,
            "margin": null,
            "max_height": null,
            "max_width": null,
            "min_height": null,
            "min_width": null,
            "object_fit": null,
            "object_position": null,
            "order": null,
            "overflow": null,
            "overflow_x": null,
            "overflow_y": null,
            "padding": null,
            "right": null,
            "top": null,
            "visibility": null,
            "width": null
          }
        },
        "90a86b0695df40d7be7f4efa642560b4": {
          "model_module": "@jupyter-widgets/controls",
          "model_name": "DescriptionStyleModel",
          "model_module_version": "1.5.0",
          "state": {
            "_model_module": "@jupyter-widgets/controls",
            "_model_module_version": "1.5.0",
            "_model_name": "DescriptionStyleModel",
            "_view_count": null,
            "_view_module": "@jupyter-widgets/base",
            "_view_module_version": "1.2.0",
            "_view_name": "StyleView",
            "description_width": ""
          }
        },
        "c3dab6c480f347f5ad4363adfdafbf9c": {
          "model_module": "@jupyter-widgets/controls",
          "model_name": "HBoxModel",
          "model_module_version": "1.5.0",
          "state": {
            "_dom_classes": [],
            "_model_module": "@jupyter-widgets/controls",
            "_model_module_version": "1.5.0",
            "_model_name": "HBoxModel",
            "_view_count": null,
            "_view_module": "@jupyter-widgets/controls",
            "_view_module_version": "1.5.0",
            "_view_name": "HBoxView",
            "box_style": "",
            "children": [
              "IPY_MODEL_dd7b1a0258544024bdd93d4aca336a10",
              "IPY_MODEL_3f56a5a8287a4c859d8eb9a379d20f27",
              "IPY_MODEL_dd185b7a2c4842bb8679a50c1c65bd88"
            ],
            "layout": "IPY_MODEL_5c8a43ce14cc4418bf215f34fc57a5a9"
          }
        },
        "dd7b1a0258544024bdd93d4aca336a10": {
          "model_module": "@jupyter-widgets/controls",
          "model_name": "HTMLModel",
          "model_module_version": "1.5.0",
          "state": {
            "_dom_classes": [],
            "_model_module": "@jupyter-widgets/controls",
            "_model_module_version": "1.5.0",
            "_model_name": "HTMLModel",
            "_view_count": null,
            "_view_module": "@jupyter-widgets/controls",
            "_view_module_version": "1.5.0",
            "_view_name": "HTMLView",
            "description": "",
            "description_tooltip": null,
            "layout": "IPY_MODEL_df3a509c5bbc469d811c5ccb71a6a6f0",
            "placeholder": "​",
            "style": "IPY_MODEL_ae4d46c3674144e0a4f51b59f23591b5",
            "value": "Transcription finished: 100%"
          }
        },
        "3f56a5a8287a4c859d8eb9a379d20f27": {
          "model_module": "@jupyter-widgets/controls",
          "model_name": "FloatProgressModel",
          "model_module_version": "1.5.0",
          "state": {
            "_dom_classes": [],
            "_model_module": "@jupyter-widgets/controls",
            "_model_module_version": "1.5.0",
            "_model_name": "FloatProgressModel",
            "_view_count": null,
            "_view_module": "@jupyter-widgets/controls",
            "_view_module_version": "1.5.0",
            "_view_name": "ProgressView",
            "bar_style": "danger",
            "description": "",
            "description_tooltip": null,
            "layout": "IPY_MODEL_41bc20f43c6349f6acb13896fb390b0b",
            "max": 216722,
            "min": 0,
            "orientation": "horizontal",
            "style": "IPY_MODEL_0a77f58200264edc85062ab305d386cb",
            "value": 216640
          }
        },
        "dd185b7a2c4842bb8679a50c1c65bd88": {
          "model_module": "@jupyter-widgets/controls",
          "model_name": "HTMLModel",
          "model_module_version": "1.5.0",
          "state": {
            "_dom_classes": [],
            "_model_module": "@jupyter-widgets/controls",
            "_model_module_version": "1.5.0",
            "_model_name": "HTMLModel",
            "_view_count": null,
            "_view_module": "@jupyter-widgets/controls",
            "_view_module_version": "1.5.0",
            "_view_name": "HTMLView",
            "description": "",
            "description_tooltip": null,
            "layout": "IPY_MODEL_780bb35c39c54db784c01945ecfcb628",
            "placeholder": "​",
            "style": "IPY_MODEL_15aebbbc38ab4d7681466b7368acf2e4",
            "value": " 216640/216722 [00:05&lt;00:00, 90891.28it/s]"
          }
        },
        "5c8a43ce14cc4418bf215f34fc57a5a9": {
          "model_module": "@jupyter-widgets/base",
          "model_name": "LayoutModel",
          "model_module_version": "1.2.0",
          "state": {
            "_model_module": "@jupyter-widgets/base",
            "_model_module_version": "1.2.0",
            "_model_name": "LayoutModel",
            "_view_count": null,
            "_view_module": "@jupyter-widgets/base",
            "_view_module_version": "1.2.0",
            "_view_name": "LayoutView",
            "align_content": null,
            "align_items": null,
            "align_self": null,
            "border": null,
            "bottom": null,
            "display": null,
            "flex": null,
            "flex_flow": null,
            "grid_area": null,
            "grid_auto_columns": null,
            "grid_auto_flow": null,
            "grid_auto_rows": null,
            "grid_column": null,
            "grid_gap": null,
            "grid_row": null,
            "grid_template_areas": null,
            "grid_template_columns": null,
            "grid_template_rows": null,
            "height": null,
            "justify_content": null,
            "justify_items": null,
            "left": null,
            "margin": null,
            "max_height": null,
            "max_width": null,
            "min_height": null,
            "min_width": null,
            "object_fit": null,
            "object_position": null,
            "order": null,
            "overflow": null,
            "overflow_x": null,
            "overflow_y": null,
            "padding": null,
            "right": null,
            "top": null,
            "visibility": null,
            "width": null
          }
        },
        "df3a509c5bbc469d811c5ccb71a6a6f0": {
          "model_module": "@jupyter-widgets/base",
          "model_name": "LayoutModel",
          "model_module_version": "1.2.0",
          "state": {
            "_model_module": "@jupyter-widgets/base",
            "_model_module_version": "1.2.0",
            "_model_name": "LayoutModel",
            "_view_count": null,
            "_view_module": "@jupyter-widgets/base",
            "_view_module_version": "1.2.0",
            "_view_name": "LayoutView",
            "align_content": null,
            "align_items": null,
            "align_self": null,
            "border": null,
            "bottom": null,
            "display": null,
            "flex": null,
            "flex_flow": null,
            "grid_area": null,
            "grid_auto_columns": null,
            "grid_auto_flow": null,
            "grid_auto_rows": null,
            "grid_column": null,
            "grid_gap": null,
            "grid_row": null,
            "grid_template_areas": null,
            "grid_template_columns": null,
            "grid_template_rows": null,
            "height": null,
            "justify_content": null,
            "justify_items": null,
            "left": null,
            "margin": null,
            "max_height": null,
            "max_width": null,
            "min_height": null,
            "min_width": null,
            "object_fit": null,
            "object_position": null,
            "order": null,
            "overflow": null,
            "overflow_x": null,
            "overflow_y": null,
            "padding": null,
            "right": null,
            "top": null,
            "visibility": null,
            "width": null
          }
        },
        "ae4d46c3674144e0a4f51b59f23591b5": {
          "model_module": "@jupyter-widgets/controls",
          "model_name": "DescriptionStyleModel",
          "model_module_version": "1.5.0",
          "state": {
            "_model_module": "@jupyter-widgets/controls",
            "_model_module_version": "1.5.0",
            "_model_name": "DescriptionStyleModel",
            "_view_count": null,
            "_view_module": "@jupyter-widgets/base",
            "_view_module_version": "1.2.0",
            "_view_name": "StyleView",
            "description_width": ""
          }
        },
        "41bc20f43c6349f6acb13896fb390b0b": {
          "model_module": "@jupyter-widgets/base",
          "model_name": "LayoutModel",
          "model_module_version": "1.2.0",
          "state": {
            "_model_module": "@jupyter-widgets/base",
            "_model_module_version": "1.2.0",
            "_model_name": "LayoutModel",
            "_view_count": null,
            "_view_module": "@jupyter-widgets/base",
            "_view_module_version": "1.2.0",
            "_view_name": "LayoutView",
            "align_content": null,
            "align_items": null,
            "align_self": null,
            "border": null,
            "bottom": null,
            "display": null,
            "flex": null,
            "flex_flow": null,
            "grid_area": null,
            "grid_auto_columns": null,
            "grid_auto_flow": null,
            "grid_auto_rows": null,
            "grid_column": null,
            "grid_gap": null,
            "grid_row": null,
            "grid_template_areas": null,
            "grid_template_columns": null,
            "grid_template_rows": null,
            "height": null,
            "justify_content": null,
            "justify_items": null,
            "left": null,
            "margin": null,
            "max_height": null,
            "max_width": null,
            "min_height": null,
            "min_width": null,
            "object_fit": null,
            "object_position": null,
            "order": null,
            "overflow": null,
            "overflow_x": null,
            "overflow_y": null,
            "padding": null,
            "right": null,
            "top": null,
            "visibility": null,
            "width": null
          }
        },
        "0a77f58200264edc85062ab305d386cb": {
          "model_module": "@jupyter-widgets/controls",
          "model_name": "ProgressStyleModel",
          "model_module_version": "1.5.0",
          "state": {
            "_model_module": "@jupyter-widgets/controls",
            "_model_module_version": "1.5.0",
            "_model_name": "ProgressStyleModel",
            "_view_count": null,
            "_view_module": "@jupyter-widgets/base",
            "_view_module_version": "1.2.0",
            "_view_name": "StyleView",
            "bar_color": null,
            "description_width": ""
          }
        },
        "780bb35c39c54db784c01945ecfcb628": {
          "model_module": "@jupyter-widgets/base",
          "model_name": "LayoutModel",
          "model_module_version": "1.2.0",
          "state": {
            "_model_module": "@jupyter-widgets/base",
            "_model_module_version": "1.2.0",
            "_model_name": "LayoutModel",
            "_view_count": null,
            "_view_module": "@jupyter-widgets/base",
            "_view_module_version": "1.2.0",
            "_view_name": "LayoutView",
            "align_content": null,
            "align_items": null,
            "align_self": null,
            "border": null,
            "bottom": null,
            "display": null,
            "flex": null,
            "flex_flow": null,
            "grid_area": null,
            "grid_auto_columns": null,
            "grid_auto_flow": null,
            "grid_auto_rows": null,
            "grid_column": null,
            "grid_gap": null,
            "grid_row": null,
            "grid_template_areas": null,
            "grid_template_columns": null,
            "grid_template_rows": null,
            "height": null,
            "justify_content": null,
            "justify_items": null,
            "left": null,
            "margin": null,
            "max_height": null,
            "max_width": null,
            "min_height": null,
            "min_width": null,
            "object_fit": null,
            "object_position": null,
            "order": null,
            "overflow": null,
            "overflow_x": null,
            "overflow_y": null,
            "padding": null,
            "right": null,
            "top": null,
            "visibility": null,
            "width": null
          }
        },
        "15aebbbc38ab4d7681466b7368acf2e4": {
          "model_module": "@jupyter-widgets/controls",
          "model_name": "DescriptionStyleModel",
          "model_module_version": "1.5.0",
          "state": {
            "_model_module": "@jupyter-widgets/controls",
            "_model_module_version": "1.5.0",
            "_model_name": "DescriptionStyleModel",
            "_view_count": null,
            "_view_module": "@jupyter-widgets/base",
            "_view_module_version": "1.2.0",
            "_view_name": "StyleView",
            "description_width": ""
          }
        },
        "6a1399165f31490597a467d257c48a43": {
          "model_module": "@jupyter-widgets/controls",
          "model_name": "HBoxModel",
          "model_module_version": "1.5.0",
          "state": {
            "_dom_classes": [],
            "_model_module": "@jupyter-widgets/controls",
            "_model_module_version": "1.5.0",
            "_model_name": "HBoxModel",
            "_view_count": null,
            "_view_module": "@jupyter-widgets/controls",
            "_view_module_version": "1.5.0",
            "_view_name": "HBoxView",
            "box_style": "",
            "children": [
              "IPY_MODEL_e9d373e7ae6545bdacba17d35580578c",
              "IPY_MODEL_2e815f93016a4fbf9c42b6f4ed9ab083",
              "IPY_MODEL_fc10ef0932694bf7a9c0dfbf93959501"
            ],
            "layout": "IPY_MODEL_f726c4312cc24a6f83e0ab9b3b9bb067"
          }
        },
        "e9d373e7ae6545bdacba17d35580578c": {
          "model_module": "@jupyter-widgets/controls",
          "model_name": "HTMLModel",
          "model_module_version": "1.5.0",
          "state": {
            "_dom_classes": [],
            "_model_module": "@jupyter-widgets/controls",
            "_model_module_version": "1.5.0",
            "_model_name": "HTMLModel",
            "_view_count": null,
            "_view_module": "@jupyter-widgets/controls",
            "_view_module_version": "1.5.0",
            "_view_name": "HTMLView",
            "description": "",
            "description_tooltip": null,
            "layout": "IPY_MODEL_7af58be234954be4acc3ccc119e9e735",
            "placeholder": "​",
            "style": "IPY_MODEL_3150929f9f5f4edcbdb4ec54aebd37be",
            "value": "Downloading builder script: 100%"
          }
        },
        "2e815f93016a4fbf9c42b6f4ed9ab083": {
          "model_module": "@jupyter-widgets/controls",
          "model_name": "FloatProgressModel",
          "model_module_version": "1.5.0",
          "state": {
            "_dom_classes": [],
            "_model_module": "@jupyter-widgets/controls",
            "_model_module_version": "1.5.0",
            "_model_name": "FloatProgressModel",
            "_view_count": null,
            "_view_module": "@jupyter-widgets/controls",
            "_view_module_version": "1.5.0",
            "_view_name": "ProgressView",
            "bar_style": "success",
            "description": "",
            "description_tooltip": null,
            "layout": "IPY_MODEL_3ef5515647f54087b9004806b8ae7806",
            "max": 4485,
            "min": 0,
            "orientation": "horizontal",
            "style": "IPY_MODEL_e9bf7512e4f94e52a8b409a50d254be8",
            "value": 4485
          }
        },
        "fc10ef0932694bf7a9c0dfbf93959501": {
          "model_module": "@jupyter-widgets/controls",
          "model_name": "HTMLModel",
          "model_module_version": "1.5.0",
          "state": {
            "_dom_classes": [],
            "_model_module": "@jupyter-widgets/controls",
            "_model_module_version": "1.5.0",
            "_model_name": "HTMLModel",
            "_view_count": null,
            "_view_module": "@jupyter-widgets/controls",
            "_view_module_version": "1.5.0",
            "_view_name": "HTMLView",
            "description": "",
            "description_tooltip": null,
            "layout": "IPY_MODEL_4b11004d903d4886876c2bbc04d421f0",
            "placeholder": "​",
            "style": "IPY_MODEL_4dd5757b1831421e9e6220f1d51835b4",
            "value": " 4.49k/4.49k [00:00&lt;00:00, 110kB/s]"
          }
        },
        "f726c4312cc24a6f83e0ab9b3b9bb067": {
          "model_module": "@jupyter-widgets/base",
          "model_name": "LayoutModel",
          "model_module_version": "1.2.0",
          "state": {
            "_model_module": "@jupyter-widgets/base",
            "_model_module_version": "1.2.0",
            "_model_name": "LayoutModel",
            "_view_count": null,
            "_view_module": "@jupyter-widgets/base",
            "_view_module_version": "1.2.0",
            "_view_name": "LayoutView",
            "align_content": null,
            "align_items": null,
            "align_self": null,
            "border": null,
            "bottom": null,
            "display": null,
            "flex": null,
            "flex_flow": null,
            "grid_area": null,
            "grid_auto_columns": null,
            "grid_auto_flow": null,
            "grid_auto_rows": null,
            "grid_column": null,
            "grid_gap": null,
            "grid_row": null,
            "grid_template_areas": null,
            "grid_template_columns": null,
            "grid_template_rows": null,
            "height": null,
            "justify_content": null,
            "justify_items": null,
            "left": null,
            "margin": null,
            "max_height": null,
            "max_width": null,
            "min_height": null,
            "min_width": null,
            "object_fit": null,
            "object_position": null,
            "order": null,
            "overflow": null,
            "overflow_x": null,
            "overflow_y": null,
            "padding": null,
            "right": null,
            "top": null,
            "visibility": null,
            "width": null
          }
        },
        "7af58be234954be4acc3ccc119e9e735": {
          "model_module": "@jupyter-widgets/base",
          "model_name": "LayoutModel",
          "model_module_version": "1.2.0",
          "state": {
            "_model_module": "@jupyter-widgets/base",
            "_model_module_version": "1.2.0",
            "_model_name": "LayoutModel",
            "_view_count": null,
            "_view_module": "@jupyter-widgets/base",
            "_view_module_version": "1.2.0",
            "_view_name": "LayoutView",
            "align_content": null,
            "align_items": null,
            "align_self": null,
            "border": null,
            "bottom": null,
            "display": null,
            "flex": null,
            "flex_flow": null,
            "grid_area": null,
            "grid_auto_columns": null,
            "grid_auto_flow": null,
            "grid_auto_rows": null,
            "grid_column": null,
            "grid_gap": null,
            "grid_row": null,
            "grid_template_areas": null,
            "grid_template_columns": null,
            "grid_template_rows": null,
            "height": null,
            "justify_content": null,
            "justify_items": null,
            "left": null,
            "margin": null,
            "max_height": null,
            "max_width": null,
            "min_height": null,
            "min_width": null,
            "object_fit": null,
            "object_position": null,
            "order": null,
            "overflow": null,
            "overflow_x": null,
            "overflow_y": null,
            "padding": null,
            "right": null,
            "top": null,
            "visibility": null,
            "width": null
          }
        },
        "3150929f9f5f4edcbdb4ec54aebd37be": {
          "model_module": "@jupyter-widgets/controls",
          "model_name": "DescriptionStyleModel",
          "model_module_version": "1.5.0",
          "state": {
            "_model_module": "@jupyter-widgets/controls",
            "_model_module_version": "1.5.0",
            "_model_name": "DescriptionStyleModel",
            "_view_count": null,
            "_view_module": "@jupyter-widgets/base",
            "_view_module_version": "1.2.0",
            "_view_name": "StyleView",
            "description_width": ""
          }
        },
        "3ef5515647f54087b9004806b8ae7806": {
          "model_module": "@jupyter-widgets/base",
          "model_name": "LayoutModel",
          "model_module_version": "1.2.0",
          "state": {
            "_model_module": "@jupyter-widgets/base",
            "_model_module_version": "1.2.0",
            "_model_name": "LayoutModel",
            "_view_count": null,
            "_view_module": "@jupyter-widgets/base",
            "_view_module_version": "1.2.0",
            "_view_name": "LayoutView",
            "align_content": null,
            "align_items": null,
            "align_self": null,
            "border": null,
            "bottom": null,
            "display": null,
            "flex": null,
            "flex_flow": null,
            "grid_area": null,
            "grid_auto_columns": null,
            "grid_auto_flow": null,
            "grid_auto_rows": null,
            "grid_column": null,
            "grid_gap": null,
            "grid_row": null,
            "grid_template_areas": null,
            "grid_template_columns": null,
            "grid_template_rows": null,
            "height": null,
            "justify_content": null,
            "justify_items": null,
            "left": null,
            "margin": null,
            "max_height": null,
            "max_width": null,
            "min_height": null,
            "min_width": null,
            "object_fit": null,
            "object_position": null,
            "order": null,
            "overflow": null,
            "overflow_x": null,
            "overflow_y": null,
            "padding": null,
            "right": null,
            "top": null,
            "visibility": null,
            "width": null
          }
        },
        "e9bf7512e4f94e52a8b409a50d254be8": {
          "model_module": "@jupyter-widgets/controls",
          "model_name": "ProgressStyleModel",
          "model_module_version": "1.5.0",
          "state": {
            "_model_module": "@jupyter-widgets/controls",
            "_model_module_version": "1.5.0",
            "_model_name": "ProgressStyleModel",
            "_view_count": null,
            "_view_module": "@jupyter-widgets/base",
            "_view_module_version": "1.2.0",
            "_view_name": "StyleView",
            "bar_color": null,
            "description_width": ""
          }
        },
        "4b11004d903d4886876c2bbc04d421f0": {
          "model_module": "@jupyter-widgets/base",
          "model_name": "LayoutModel",
          "model_module_version": "1.2.0",
          "state": {
            "_model_module": "@jupyter-widgets/base",
            "_model_module_version": "1.2.0",
            "_model_name": "LayoutModel",
            "_view_count": null,
            "_view_module": "@jupyter-widgets/base",
            "_view_module_version": "1.2.0",
            "_view_name": "LayoutView",
            "align_content": null,
            "align_items": null,
            "align_self": null,
            "border": null,
            "bottom": null,
            "display": null,
            "flex": null,
            "flex_flow": null,
            "grid_area": null,
            "grid_auto_columns": null,
            "grid_auto_flow": null,
            "grid_auto_rows": null,
            "grid_column": null,
            "grid_gap": null,
            "grid_row": null,
            "grid_template_areas": null,
            "grid_template_columns": null,
            "grid_template_rows": null,
            "height": null,
            "justify_content": null,
            "justify_items": null,
            "left": null,
            "margin": null,
            "max_height": null,
            "max_width": null,
            "min_height": null,
            "min_width": null,
            "object_fit": null,
            "object_position": null,
            "order": null,
            "overflow": null,
            "overflow_x": null,
            "overflow_y": null,
            "padding": null,
            "right": null,
            "top": null,
            "visibility": null,
            "width": null
          }
        },
        "4dd5757b1831421e9e6220f1d51835b4": {
          "model_module": "@jupyter-widgets/controls",
          "model_name": "DescriptionStyleModel",
          "model_module_version": "1.5.0",
          "state": {
            "_model_module": "@jupyter-widgets/controls",
            "_model_module_version": "1.5.0",
            "_model_name": "DescriptionStyleModel",
            "_view_count": null,
            "_view_module": "@jupyter-widgets/base",
            "_view_module_version": "1.2.0",
            "_view_name": "StyleView",
            "description_width": ""
          }
        }
      }
    }
  },
  "cells": [
    {
      "cell_type": "markdown",
      "source": [
        "В данном ноутбуке рассмотрим Vosk для перевода русского языка из аудио файла в текстовую форму.\n",
        "\n",
        "Содержание:\n",
        "1. Подготовка\n",
        "2. Процесс распознавания\n",
        "3. Оценка распознавания\n",
        "4. Вывод"
      ],
      "metadata": {
        "id": "Ri1coMX7A6iH"
      }
    },
    {
      "cell_type": "markdown",
      "source": [
        "# 1. Подготовка"
      ],
      "metadata": {
        "id": "mkpc2DZBlw-9"
      }
    },
    {
      "cell_type": "markdown",
      "source": [
        "Проверим какой CPU используется для того, чтобы занести в конечный отчет."
      ],
      "metadata": {
        "id": "hxR6lUbmY514"
      }
    },
    {
      "cell_type": "code",
      "source": [
        "!lscpu |grep 'Model name'"
      ],
      "metadata": {
        "colab": {
          "base_uri": "https://localhost:8080/"
        },
        "id": "U27OHedwY2tQ",
        "outputId": "0cbf4a5c-02a9-4df0-86b5-5fe0cccb6d3a"
      },
      "execution_count": 1,
      "outputs": [
        {
          "output_type": "stream",
          "name": "stdout",
          "text": [
            "Model name:          Intel(R) Xeon(R) CPU @ 2.20GHz\n"
          ]
        }
      ]
    },
    {
      "cell_type": "code",
      "execution_count": 2,
      "metadata": {
        "id": "YTeybkSqA13-"
      },
      "outputs": [],
      "source": [
        "!pip install -q vosk wave tqdm"
      ]
    },
    {
      "cell_type": "code",
      "source": [
        "from vosk import Model, KaldiRecognizer, SetLogLevel\n",
        "from tqdm.notebook import tqdm\n",
        "import wave\n",
        "import os\n",
        "import json\n",
        "import time"
      ],
      "metadata": {
        "id": "bS_vjfVXIrHv"
      },
      "execution_count": 3,
      "outputs": []
    },
    {
      "cell_type": "code",
      "source": [
        "!git clone https://github.com/alphacep/vosk-api"
      ],
      "metadata": {
        "colab": {
          "base_uri": "https://localhost:8080/"
        },
        "id": "RPDCGOCWmK5i",
        "outputId": "33b74ff8-aafc-40c9-9f81-f374f0755b42"
      },
      "execution_count": 4,
      "outputs": [
        {
          "output_type": "stream",
          "name": "stdout",
          "text": [
            "fatal: destination path 'vosk-api' already exists and is not an empty directory.\n"
          ]
        }
      ]
    },
    {
      "cell_type": "markdown",
      "source": [
        "На данном шаге придется пару минут подождать, так как модель весит 1,5Гб"
      ],
      "metadata": {
        "id": "Ve47zBNQZbAQ"
      }
    },
    {
      "cell_type": "code",
      "source": [
        "%cd vosk-api/python/example\n",
        "#Russian lang model\n",
        "!wget https://alphacephei.com/vosk/models/vosk-model-ru-0.22.zip\n",
        "!unzip vosk-model-ru-0.22.zip\n",
        "%mv vosk-model-ru-0.22 model"
      ],
      "metadata": {
        "colab": {
          "base_uri": "https://localhost:8080/"
        },
        "id": "MnInA31PmTC6",
        "outputId": "d7f5d42b-efc7-4bb1-a4db-00c22f926502"
      },
      "execution_count": 5,
      "outputs": [
        {
          "output_type": "stream",
          "name": "stdout",
          "text": [
            "/content/vosk-api/python/example\n",
            "--2022-10-29 15:55:03--  https://alphacephei.com/vosk/models/vosk-model-ru-0.22.zip\n",
            "Resolving alphacephei.com (alphacephei.com)... 188.40.21.16, 2a01:4f8:13a:279f::2\n",
            "Connecting to alphacephei.com (alphacephei.com)|188.40.21.16|:443... connected.\n",
            "HTTP request sent, awaiting response... 200 OK\n",
            "Length: 1559419132 (1.5G) [application/zip]\n",
            "Saving to: ‘vosk-model-ru-0.22.zip.4’\n",
            "\n",
            "vosk-model-ru-0.22. 100%[===================>]   1.45G  25.2MB/s    in 60s     \n",
            "\n",
            "2022-10-29 15:56:04 (24.9 MB/s) - ‘vosk-model-ru-0.22.zip.4’ saved [1559419132/1559419132]\n",
            "\n",
            "Archive:  vosk-model-ru-0.22.zip\n",
            "replace vosk-model-ru-0.22/graph/words.txt? [y]es, [n]o, [A]ll, [N]one, [r]ename: a\n",
            "error:  invalid response [a]\n",
            "replace vosk-model-ru-0.22/graph/words.txt? [y]es, [n]o, [A]ll, [N]one, [r]ename: A\n",
            "  inflating: vosk-model-ru-0.22/graph/words.txt  \n",
            " extracting: vosk-model-ru-0.22/graph/phones/silence.csl  \n",
            "  inflating: vosk-model-ru-0.22/graph/phones/align_lexicon.txt  \n",
            "  inflating: vosk-model-ru-0.22/graph/phones/word_boundary.txt  \n",
            " extracting: vosk-model-ru-0.22/graph/phones/optional_silence.csl  \n",
            " extracting: vosk-model-ru-0.22/graph/phones/optional_silence.txt  \n",
            "  inflating: vosk-model-ru-0.22/graph/phones/disambig.int  \n",
            " extracting: vosk-model-ru-0.22/graph/phones/disambig.txt  \n",
            "  inflating: vosk-model-ru-0.22/graph/phones/align_lexicon.int  \n",
            "  inflating: vosk-model-ru-0.22/graph/phones/word_boundary.int  \n",
            " extracting: vosk-model-ru-0.22/graph/phones/optional_silence.int  \n",
            "  inflating: vosk-model-ru-0.22/graph/phones.txt  \n",
            "  inflating: vosk-model-ru-0.22/graph/HCLG.fst  \n",
            " extracting: vosk-model-ru-0.22/graph/num_pdfs  \n",
            "  inflating: vosk-model-ru-0.22/graph/disambig_tid.int  \n",
            "  inflating: vosk-model-ru-0.22/decode.py  \n",
            " extracting: vosk-model-ru-0.22/am/frame_subsampling_factor  \n",
            "  inflating: vosk-model-ru-0.22/am/tree  \n",
            "  inflating: vosk-model-ru-0.22/am/final.mdl  \n",
            "  inflating: vosk-model-ru-0.22/extra/sova_devices.ref  \n",
            "  inflating: vosk-model-ru-0.22/extra/silero_youtube.ref  \n",
            "  inflating: vosk-model-ru-0.22/extra/golos_crowd.ref  \n",
            "  inflating: vosk-model-ru-0.22/extra/README  \n",
            "  inflating: vosk-model-ru-0.22/extra/silero_books.ref  \n",
            "  inflating: vosk-model-ru-0.22/extra/silero_calls.ref  \n",
            " extracting: vosk-model-ru-0.22/rnnlm/oov.txt  \n",
            "  inflating: vosk-model-ru-0.22/rnnlm/special_symbol_opts.conf  \n",
            "  inflating: vosk-model-ru-0.22/rnnlm/features.txt  \n",
            "  inflating: vosk-model-ru-0.22/rnnlm/final.raw  \n",
            "  inflating: vosk-model-ru-0.22/rnnlm/special_symbol_opts.txt  \n",
            "  inflating: vosk-model-ru-0.22/rnnlm/feat_embedding.final.mat  \n",
            "  inflating: vosk-model-ru-0.22/rnnlm/word_feats.txt  \n",
            "  inflating: vosk-model-ru-0.22/rnnlm/info.txt  \n",
            "  inflating: vosk-model-ru-0.22/decoder-test.wav  \n",
            "  inflating: vosk-model-ru-0.22/README  \n",
            "  inflating: vosk-model-ru-0.22/rescore/G.fst  \n",
            "  inflating: vosk-model-ru-0.22/rescore/G.carpa  \n",
            "  inflating: vosk-model-ru-0.22/conf/model.conf  \n",
            "  inflating: vosk-model-ru-0.22/conf/ivector_extractor.conf  \n",
            "  inflating: vosk-model-ru-0.22/conf/mfcc.conf  \n",
            "  inflating: vosk-model-ru-0.22/conf/online.conf  \n",
            "  inflating: vosk-model-ru-0.22/ivector/final.dubm  \n",
            "  inflating: vosk-model-ru-0.22/ivector/global_cmvn.stats  \n",
            "  inflating: vosk-model-ru-0.22/ivector/final.ie  \n",
            "  inflating: vosk-model-ru-0.22/ivector/final.mat  \n",
            "  inflating: vosk-model-ru-0.22/ivector/splice.conf  \n",
            " extracting: vosk-model-ru-0.22/ivector/online_cmvn.conf  \n",
            "mv: cannot move 'vosk-model-ru-0.22' to 'model/vosk-model-ru-0.22': Directory not empty\n"
          ]
        }
      ]
    },
    {
      "cell_type": "markdown",
      "source": [
        "Скачаем пару тестовых файлов для распознавания"
      ],
      "metadata": {
        "id": "YifJcvesaE3G"
      }
    },
    {
      "cell_type": "code",
      "source": [
        "%cd /content/"
      ],
      "metadata": {
        "colab": {
          "base_uri": "https://localhost:8080/"
        },
        "id": "ekQ1V_bMZ5D7",
        "outputId": "c29caf8f-5e7c-4384-b924-fe451cc4bfdb"
      },
      "execution_count": 6,
      "outputs": [
        {
          "output_type": "stream",
          "name": "stdout",
          "text": [
            "/content\n"
          ]
        }
      ]
    },
    {
      "cell_type": "code",
      "source": [
        "!gdown 1BOoXkBL1FgrFO_7M_BMKmDduqij16maV"
      ],
      "metadata": {
        "colab": {
          "base_uri": "https://localhost:8080/"
        },
        "id": "CeAkxb92Ztlw",
        "outputId": "9377d669-a28d-4885-a749-d9d0b5ff001e"
      },
      "execution_count": 7,
      "outputs": [
        {
          "output_type": "stream",
          "name": "stdout",
          "text": [
            "Downloading...\n",
            "From: https://drive.google.com/uc?id=1BOoXkBL1FgrFO_7M_BMKmDduqij16maV\n",
            "To: /content/test.wav\n",
            "\r  0% 0.00/334k [00:00<?, ?B/s]\r100% 334k/334k [00:00<00:00, 98.6MB/s]\n"
          ]
        }
      ]
    },
    {
      "cell_type": "code",
      "source": [
        "!gdown 1GSUx2b2V2iapbW79InaIqtZUsIMDgWq2"
      ],
      "metadata": {
        "colab": {
          "base_uri": "https://localhost:8080/"
        },
        "id": "TwpcmmIbZ27i",
        "outputId": "91886f3b-3294-4b58-ab87-63835266b9ac"
      },
      "execution_count": 8,
      "outputs": [
        {
          "output_type": "stream",
          "name": "stdout",
          "text": [
            "Downloading...\n",
            "From: https://drive.google.com/uc?id=1GSUx2b2V2iapbW79InaIqtZUsIMDgWq2\n",
            "To: /content/tes2.wav\n",
            "\r  0% 0.00/217k [00:00<?, ?B/s]\r100% 217k/217k [00:00<00:00, 93.0MB/s]\n"
          ]
        }
      ]
    },
    {
      "cell_type": "markdown",
      "source": [
        "# 2. Процесс распознавания"
      ],
      "metadata": {
        "id": "UN4ALjC9lz1Z"
      }
    },
    {
      "cell_type": "code",
      "source": [
        "def transcript_file(input_file, model_path):\n",
        "    \n",
        "    # Check if file exists\n",
        "    if not os.path.isfile(input_file):\n",
        "        raise FileNotFoundError(os.path.basename(input_file) + \" not found\")    \n",
        "    \n",
        "    # Check if model path exists\n",
        "    if not os.path.exists(model_path):\n",
        "        raise FileNotFoundError(os.path.basename(model_path) + \" not found\")\n",
        "\n",
        "    # open audio file\n",
        "    wf = wave.open(input_file, \"rb\")\n",
        "    \n",
        "    # check if wave file has the right properties\n",
        "    if wf.getnchannels() != 1 or wf.getsampwidth() != 2 or wf.getcomptype() != \"NONE\":\n",
        "        raise TypeError(\"Audio file must be WAV format mono PCM.\")\n",
        "    \n",
        "    # Initialize model\n",
        "    model = Model(model_path)\n",
        "    rec = KaldiRecognizer(model, wf.getframerate())\n",
        "    \n",
        "    # Get file size (to calculate progress bar)\n",
        "    file_size = os.path.getsize(input_file)\n",
        "    \n",
        "    # Run transcription\n",
        "    pbar = tqdm(total=file_size)\n",
        "\n",
        "    # To store our results\n",
        "    transcription = []\n",
        "\n",
        "    while True:\n",
        "        start_time = time.time()\n",
        "        data = wf.readframes(4000) # use buffer of 4000\n",
        "        pbar.update(len(data))\n",
        "        if len(data) == 0:\n",
        "            pbar.set_description(\"Transcription finished\")\n",
        "            break\n",
        "        if rec.AcceptWaveform(data):\n",
        "            # Convert json output to dict\n",
        "            result_dict = json.loads(rec.Result())\n",
        "            # Extract text values and append them to transcription list\n",
        "            transcription.append(result_dict.get(\"text\", \"\"))\n",
        "\n",
        "    # Get final bits of audio and flush the pipeline\n",
        "    final_result = json.loads(rec.FinalResult())\n",
        "    transcription.append(final_result.get(\"text\", \"\"))\n",
        "    \n",
        "    transcription_text = ' '.join(transcription)\n",
        "    time_1 = round((time.time() - start_time), 3)\n",
        "    \n",
        "    return transcription_text, time_1"
      ],
      "metadata": {
        "id": "z2iM0lmwl0Kp"
      },
      "execution_count": 9,
      "outputs": []
    },
    {
      "cell_type": "code",
      "source": [
        "transcription_1, time_1 = transcript_file('/content/test.wav', '/content/vosk-api/python/example/model')"
      ],
      "metadata": {
        "colab": {
          "base_uri": "https://localhost:8080/",
          "height": 49,
          "referenced_widgets": [
            "bb2c6b887a8a4a9a8fc5387d63f607f6",
            "945b2448628746dc96dc212d95813d2e",
            "1558af0054a44a30878535621f814dfd",
            "63e2b724814d407daa6da5c831b95cb3",
            "9affd25b2f64421c8ec5042b4558205c",
            "ca81ffa5dcfe45e689462a60ae06f1fd",
            "96b88a5a119c4bc4906269ec051752db",
            "3e1ce897b281444881816550a4638c44",
            "9029815157d04f0fa028c6de136765b4",
            "84f5539bf3cb420393180d8a482bdbd7",
            "90a86b0695df40d7be7f4efa642560b4"
          ]
        },
        "id": "bYEfJcVZIk4W",
        "outputId": "577ba044-8173-4459-c752-950e20298341"
      },
      "execution_count": 10,
      "outputs": [
        {
          "output_type": "display_data",
          "data": {
            "text/plain": [
              "  0%|          | 0/333842 [00:00<?, ?it/s]"
            ],
            "application/vnd.jupyter.widget-view+json": {
              "version_major": 2,
              "version_minor": 0,
              "model_id": "bb2c6b887a8a4a9a8fc5387d63f607f6"
            }
          },
          "metadata": {}
        }
      ]
    },
    {
      "cell_type": "code",
      "source": [
        "print(f'Распознанный текст:\\n*****\\n{transcription_1}\\n*****\\nВремя затраченное на распознавание:{time_1} секунды')"
      ],
      "metadata": {
        "colab": {
          "base_uri": "https://localhost:8080/"
        },
        "id": "exIv1z0YIk4X",
        "outputId": "783f22a6-3a59-40a7-b5c2-44060c5519af"
      },
      "execution_count": 11,
      "outputs": [
        {
          "output_type": "stream",
          "name": "stdout",
          "text": [
            "Распознанный текст:\n",
            "*****\n",
            "раз два три проверка связи три два раз как слышно приём\n",
            "*****\n",
            "Время затраченное на распознавание:0.713 секунды\n"
          ]
        }
      ]
    },
    {
      "cell_type": "code",
      "source": [
        "transcription_2, time_2 = transcript_file('/content/tes2.wav', '/content/vosk-api/python/example/model')"
      ],
      "metadata": {
        "colab": {
          "base_uri": "https://localhost:8080/",
          "height": 49,
          "referenced_widgets": [
            "c3dab6c480f347f5ad4363adfdafbf9c",
            "dd7b1a0258544024bdd93d4aca336a10",
            "3f56a5a8287a4c859d8eb9a379d20f27",
            "dd185b7a2c4842bb8679a50c1c65bd88",
            "5c8a43ce14cc4418bf215f34fc57a5a9",
            "df3a509c5bbc469d811c5ccb71a6a6f0",
            "ae4d46c3674144e0a4f51b59f23591b5",
            "41bc20f43c6349f6acb13896fb390b0b",
            "0a77f58200264edc85062ab305d386cb",
            "780bb35c39c54db784c01945ecfcb628",
            "15aebbbc38ab4d7681466b7368acf2e4"
          ]
        },
        "id": "PNjargr9M96j",
        "outputId": "73f1f6e4-9b37-4772-d4c4-c6059d5bc15c"
      },
      "execution_count": 12,
      "outputs": [
        {
          "output_type": "display_data",
          "data": {
            "text/plain": [
              "  0%|          | 0/216722 [00:00<?, ?it/s]"
            ],
            "application/vnd.jupyter.widget-view+json": {
              "version_major": 2,
              "version_minor": 0,
              "model_id": "c3dab6c480f347f5ad4363adfdafbf9c"
            }
          },
          "metadata": {}
        }
      ]
    },
    {
      "cell_type": "code",
      "source": [
        "print(f'Распознанный текст:\\n*****\\n{transcription_2}\\n*****\\nВремя затраченное на распознавание:{time_2} секунды')"
      ],
      "metadata": {
        "colab": {
          "base_uri": "https://localhost:8080/"
        },
        "id": "cfgMpYVOM9yA",
        "outputId": "f79402e6-36dc-456c-f296-3cead6b36cd9"
      },
      "execution_count": 13,
      "outputs": [
        {
          "output_type": "stream",
          "name": "stdout",
          "text": [
            "Распознанный текст:\n",
            "*****\n",
            "так новая попытка по правилу поговорить быстро и невнятно возможно в этом году ерундой\n",
            "*****\n",
            "Время затраченное на распознавание:2.701 секунды\n"
          ]
        }
      ]
    },
    {
      "cell_type": "markdown",
      "source": [
        "# 3. Оценка распознавания"
      ],
      "metadata": {
        "id": "rDDNFz9dl0bI"
      }
    },
    {
      "cell_type": "markdown",
      "source": [
        "Для оценки распознавания воспользуемся метрикой WER (Word error rate (WER) is a common metric of the performance of an automatic speech recognition (ASR) system).\n",
        "\n",
        "0 - идеальное значение"
      ],
      "metadata": {
        "id": "kx9tS-kKST3Z"
      }
    },
    {
      "cell_type": "code",
      "source": [
        "!pip install -q evaluate jiwer"
      ],
      "metadata": {
        "colab": {
          "base_uri": "https://localhost:8080/",
          "height": 173
        },
        "id": "rftbwf6bTEt3",
        "outputId": "fa82caf4-5889-4f7f-91c6-a2feb7fc4105"
      },
      "execution_count": 14,
      "outputs": [
        {
          "output_type": "stream",
          "name": "stdout",
          "text": [
            "\u001b[K     |████████████████████████████████| 72 kB 1.3 MB/s \n",
            "\u001b[K     |████████████████████████████████| 115 kB 28.7 MB/s \n",
            "\u001b[K     |████████████████████████████████| 163 kB 62.6 MB/s \n",
            "\u001b[K     |████████████████████████████████| 441 kB 61.1 MB/s \n",
            "\u001b[K     |████████████████████████████████| 212 kB 52.8 MB/s \n",
            "\u001b[K     |████████████████████████████████| 127 kB 64.5 MB/s \n",
            "\u001b[K     |████████████████████████████████| 1.4 MB 55.0 MB/s \n",
            "\u001b[K     |████████████████████████████████| 2.2 MB 50.7 MB/s \n",
            "\u001b[K     |████████████████████████████████| 115 kB 68.5 MB/s \n",
            "\u001b[?25h"
          ]
        }
      ]
    },
    {
      "cell_type": "code",
      "source": [
        "transcription_2"
      ],
      "metadata": {
        "colab": {
          "base_uri": "https://localhost:8080/",
          "height": 36
        },
        "id": "AG8Z4_PFTrqj",
        "outputId": "cd9d5819-4271-4ff5-cbf6-094165c220ec"
      },
      "execution_count": 15,
      "outputs": [
        {
          "output_type": "execute_result",
          "data": {
            "text/plain": [
              "'так новая попытка по правилу поговорить быстро и невнятно возможно в этом году ерундой'"
            ],
            "application/vnd.google.colaboratory.intrinsic+json": {
              "type": "string"
            }
          },
          "metadata": {},
          "execution_count": 15
        }
      ]
    },
    {
      "cell_type": "code",
      "source": [
        "from evaluate import load\n",
        "wer = load(\"wer\")\n",
        "predictions = [transcription_2]\n",
        "references = [\"так новая попытка попробую поговорить быстро и совершенно невнятно посмотрим как она справится с этой ерундой\"]\n",
        "wer_score = wer.compute(predictions=predictions, references=references)\n",
        "print(wer_score)"
      ],
      "metadata": {
        "colab": {
          "base_uri": "https://localhost:8080/",
          "height": 66,
          "referenced_widgets": [
            "6a1399165f31490597a467d257c48a43",
            "e9d373e7ae6545bdacba17d35580578c",
            "2e815f93016a4fbf9c42b6f4ed9ab083",
            "fc10ef0932694bf7a9c0dfbf93959501",
            "f726c4312cc24a6f83e0ab9b3b9bb067",
            "7af58be234954be4acc3ccc119e9e735",
            "3150929f9f5f4edcbdb4ec54aebd37be",
            "3ef5515647f54087b9004806b8ae7806",
            "e9bf7512e4f94e52a8b409a50d254be8",
            "4b11004d903d4886876c2bbc04d421f0",
            "4dd5757b1831421e9e6220f1d51835b4"
          ]
        },
        "id": "-b0rUZxKl0vc",
        "outputId": "0de68ca3-718c-45ae-b5b1-aa660a39c66d"
      },
      "execution_count": 16,
      "outputs": [
        {
          "output_type": "display_data",
          "data": {
            "text/plain": [
              "Downloading builder script:   0%|          | 0.00/4.49k [00:00<?, ?B/s]"
            ],
            "application/vnd.jupyter.widget-view+json": {
              "version_major": 2,
              "version_minor": 0,
              "model_id": "6a1399165f31490597a467d257c48a43"
            }
          },
          "metadata": {}
        },
        {
          "output_type": "stream",
          "name": "stdout",
          "text": [
            "0.5625\n"
          ]
        }
      ]
    },
    {
      "cell_type": "markdown",
      "source": [
        "Естественно метрика получилась не самая лучшая, так как говорил быстро и невнятно. Для первого случая с паузами и четкой дикцией замеры проводить не буду там и так понятно, что распознавание будет идеальным. \n",
        "\n",
        "Замеры скорости произвели ранее."
      ],
      "metadata": {
        "id": "UwipQ0tDT3GC"
      }
    },
    {
      "cell_type": "markdown",
      "source": [
        "# 4. Вывод"
      ],
      "metadata": {
        "id": "FTRBCqH6l1OX"
      }
    },
    {
      "cell_type": "markdown",
      "source": [
        "В данном ноутбуке рассмотрели один из самых популярных библиотек для распознавания, как видно она справляется достойно. Сравним с другими моделями/библиотеками и выберем лучшую для использования в боте."
      ],
      "metadata": {
        "id": "CpSMi_jhXyBg"
      }
    },
    {
      "cell_type": "code",
      "execution_count": 16,
      "metadata": {
        "id": "-VAYBKmMYTf0"
      },
      "outputs": [],
      "source": []
    }
  ]
}