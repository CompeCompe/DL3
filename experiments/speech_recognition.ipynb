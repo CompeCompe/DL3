{
  "nbformat": 4,
  "nbformat_minor": 0,
  "metadata": {
    "colab": {
      "provenance": [],
      "collapsed_sections": []
    },
    "kernelspec": {
      "name": "python3",
      "display_name": "Python 3"
    },
    "language_info": {
      "name": "python"
    },
    "widgets": {
      "application/vnd.jupyter.widget-state+json": {
        "fba700f8a65a4f3b83712b66cd6ac8df": {
          "model_module": "@jupyter-widgets/controls",
          "model_name": "HBoxModel",
          "model_module_version": "1.5.0",
          "state": {
            "_dom_classes": [],
            "_model_module": "@jupyter-widgets/controls",
            "_model_module_version": "1.5.0",
            "_model_name": "HBoxModel",
            "_view_count": null,
            "_view_module": "@jupyter-widgets/controls",
            "_view_module_version": "1.5.0",
            "_view_name": "HBoxView",
            "box_style": "",
            "children": [
              "IPY_MODEL_25ba60ea0fc84032b8f689001ef50aba",
              "IPY_MODEL_e652572ec4f24694879acd1ccd004189",
              "IPY_MODEL_0f78f59f8ad245649cf1538e1cfe00e0"
            ],
            "layout": "IPY_MODEL_0a86c4f8011e4c75874cc6b62620b0bb"
          }
        },
        "25ba60ea0fc84032b8f689001ef50aba": {
          "model_module": "@jupyter-widgets/controls",
          "model_name": "HTMLModel",
          "model_module_version": "1.5.0",
          "state": {
            "_dom_classes": [],
            "_model_module": "@jupyter-widgets/controls",
            "_model_module_version": "1.5.0",
            "_model_name": "HTMLModel",
            "_view_count": null,
            "_view_module": "@jupyter-widgets/controls",
            "_view_module_version": "1.5.0",
            "_view_name": "HTMLView",
            "description": "",
            "description_tooltip": null,
            "layout": "IPY_MODEL_fa5a2bd522ad440a80a60b1e084da22c",
            "placeholder": "​",
            "style": "IPY_MODEL_267c7eadb4c446daad0019b0013feea7",
            "value": "Downloading builder script: 100%"
          }
        },
        "e652572ec4f24694879acd1ccd004189": {
          "model_module": "@jupyter-widgets/controls",
          "model_name": "FloatProgressModel",
          "model_module_version": "1.5.0",
          "state": {
            "_dom_classes": [],
            "_model_module": "@jupyter-widgets/controls",
            "_model_module_version": "1.5.0",
            "_model_name": "FloatProgressModel",
            "_view_count": null,
            "_view_module": "@jupyter-widgets/controls",
            "_view_module_version": "1.5.0",
            "_view_name": "ProgressView",
            "bar_style": "success",
            "description": "",
            "description_tooltip": null,
            "layout": "IPY_MODEL_5b5d1cbd9bf94462a572f3f082e35445",
            "max": 4485,
            "min": 0,
            "orientation": "horizontal",
            "style": "IPY_MODEL_cba18ea3718344dd97d1b3227de758a1",
            "value": 4485
          }
        },
        "0f78f59f8ad245649cf1538e1cfe00e0": {
          "model_module": "@jupyter-widgets/controls",
          "model_name": "HTMLModel",
          "model_module_version": "1.5.0",
          "state": {
            "_dom_classes": [],
            "_model_module": "@jupyter-widgets/controls",
            "_model_module_version": "1.5.0",
            "_model_name": "HTMLModel",
            "_view_count": null,
            "_view_module": "@jupyter-widgets/controls",
            "_view_module_version": "1.5.0",
            "_view_name": "HTMLView",
            "description": "",
            "description_tooltip": null,
            "layout": "IPY_MODEL_7fff375003b649428b4442506c7cd090",
            "placeholder": "​",
            "style": "IPY_MODEL_aa68ec121fc24aaab8334b6634c34503",
            "value": " 4.49k/4.49k [00:00&lt;00:00, 108kB/s]"
          }
        },
        "0a86c4f8011e4c75874cc6b62620b0bb": {
          "model_module": "@jupyter-widgets/base",
          "model_name": "LayoutModel",
          "model_module_version": "1.2.0",
          "state": {
            "_model_module": "@jupyter-widgets/base",
            "_model_module_version": "1.2.0",
            "_model_name": "LayoutModel",
            "_view_count": null,
            "_view_module": "@jupyter-widgets/base",
            "_view_module_version": "1.2.0",
            "_view_name": "LayoutView",
            "align_content": null,
            "align_items": null,
            "align_self": null,
            "border": null,
            "bottom": null,
            "display": null,
            "flex": null,
            "flex_flow": null,
            "grid_area": null,
            "grid_auto_columns": null,
            "grid_auto_flow": null,
            "grid_auto_rows": null,
            "grid_column": null,
            "grid_gap": null,
            "grid_row": null,
            "grid_template_areas": null,
            "grid_template_columns": null,
            "grid_template_rows": null,
            "height": null,
            "justify_content": null,
            "justify_items": null,
            "left": null,
            "margin": null,
            "max_height": null,
            "max_width": null,
            "min_height": null,
            "min_width": null,
            "object_fit": null,
            "object_position": null,
            "order": null,
            "overflow": null,
            "overflow_x": null,
            "overflow_y": null,
            "padding": null,
            "right": null,
            "top": null,
            "visibility": null,
            "width": null
          }
        },
        "fa5a2bd522ad440a80a60b1e084da22c": {
          "model_module": "@jupyter-widgets/base",
          "model_name": "LayoutModel",
          "model_module_version": "1.2.0",
          "state": {
            "_model_module": "@jupyter-widgets/base",
            "_model_module_version": "1.2.0",
            "_model_name": "LayoutModel",
            "_view_count": null,
            "_view_module": "@jupyter-widgets/base",
            "_view_module_version": "1.2.0",
            "_view_name": "LayoutView",
            "align_content": null,
            "align_items": null,
            "align_self": null,
            "border": null,
            "bottom": null,
            "display": null,
            "flex": null,
            "flex_flow": null,
            "grid_area": null,
            "grid_auto_columns": null,
            "grid_auto_flow": null,
            "grid_auto_rows": null,
            "grid_column": null,
            "grid_gap": null,
            "grid_row": null,
            "grid_template_areas": null,
            "grid_template_columns": null,
            "grid_template_rows": null,
            "height": null,
            "justify_content": null,
            "justify_items": null,
            "left": null,
            "margin": null,
            "max_height": null,
            "max_width": null,
            "min_height": null,
            "min_width": null,
            "object_fit": null,
            "object_position": null,
            "order": null,
            "overflow": null,
            "overflow_x": null,
            "overflow_y": null,
            "padding": null,
            "right": null,
            "top": null,
            "visibility": null,
            "width": null
          }
        },
        "267c7eadb4c446daad0019b0013feea7": {
          "model_module": "@jupyter-widgets/controls",
          "model_name": "DescriptionStyleModel",
          "model_module_version": "1.5.0",
          "state": {
            "_model_module": "@jupyter-widgets/controls",
            "_model_module_version": "1.5.0",
            "_model_name": "DescriptionStyleModel",
            "_view_count": null,
            "_view_module": "@jupyter-widgets/base",
            "_view_module_version": "1.2.0",
            "_view_name": "StyleView",
            "description_width": ""
          }
        },
        "5b5d1cbd9bf94462a572f3f082e35445": {
          "model_module": "@jupyter-widgets/base",
          "model_name": "LayoutModel",
          "model_module_version": "1.2.0",
          "state": {
            "_model_module": "@jupyter-widgets/base",
            "_model_module_version": "1.2.0",
            "_model_name": "LayoutModel",
            "_view_count": null,
            "_view_module": "@jupyter-widgets/base",
            "_view_module_version": "1.2.0",
            "_view_name": "LayoutView",
            "align_content": null,
            "align_items": null,
            "align_self": null,
            "border": null,
            "bottom": null,
            "display": null,
            "flex": null,
            "flex_flow": null,
            "grid_area": null,
            "grid_auto_columns": null,
            "grid_auto_flow": null,
            "grid_auto_rows": null,
            "grid_column": null,
            "grid_gap": null,
            "grid_row": null,
            "grid_template_areas": null,
            "grid_template_columns": null,
            "grid_template_rows": null,
            "height": null,
            "justify_content": null,
            "justify_items": null,
            "left": null,
            "margin": null,
            "max_height": null,
            "max_width": null,
            "min_height": null,
            "min_width": null,
            "object_fit": null,
            "object_position": null,
            "order": null,
            "overflow": null,
            "overflow_x": null,
            "overflow_y": null,
            "padding": null,
            "right": null,
            "top": null,
            "visibility": null,
            "width": null
          }
        },
        "cba18ea3718344dd97d1b3227de758a1": {
          "model_module": "@jupyter-widgets/controls",
          "model_name": "ProgressStyleModel",
          "model_module_version": "1.5.0",
          "state": {
            "_model_module": "@jupyter-widgets/controls",
            "_model_module_version": "1.5.0",
            "_model_name": "ProgressStyleModel",
            "_view_count": null,
            "_view_module": "@jupyter-widgets/base",
            "_view_module_version": "1.2.0",
            "_view_name": "StyleView",
            "bar_color": null,
            "description_width": ""
          }
        },
        "7fff375003b649428b4442506c7cd090": {
          "model_module": "@jupyter-widgets/base",
          "model_name": "LayoutModel",
          "model_module_version": "1.2.0",
          "state": {
            "_model_module": "@jupyter-widgets/base",
            "_model_module_version": "1.2.0",
            "_model_name": "LayoutModel",
            "_view_count": null,
            "_view_module": "@jupyter-widgets/base",
            "_view_module_version": "1.2.0",
            "_view_name": "LayoutView",
            "align_content": null,
            "align_items": null,
            "align_self": null,
            "border": null,
            "bottom": null,
            "display": null,
            "flex": null,
            "flex_flow": null,
            "grid_area": null,
            "grid_auto_columns": null,
            "grid_auto_flow": null,
            "grid_auto_rows": null,
            "grid_column": null,
            "grid_gap": null,
            "grid_row": null,
            "grid_template_areas": null,
            "grid_template_columns": null,
            "grid_template_rows": null,
            "height": null,
            "justify_content": null,
            "justify_items": null,
            "left": null,
            "margin": null,
            "max_height": null,
            "max_width": null,
            "min_height": null,
            "min_width": null,
            "object_fit": null,
            "object_position": null,
            "order": null,
            "overflow": null,
            "overflow_x": null,
            "overflow_y": null,
            "padding": null,
            "right": null,
            "top": null,
            "visibility": null,
            "width": null
          }
        },
        "aa68ec121fc24aaab8334b6634c34503": {
          "model_module": "@jupyter-widgets/controls",
          "model_name": "DescriptionStyleModel",
          "model_module_version": "1.5.0",
          "state": {
            "_model_module": "@jupyter-widgets/controls",
            "_model_module_version": "1.5.0",
            "_model_name": "DescriptionStyleModel",
            "_view_count": null,
            "_view_module": "@jupyter-widgets/base",
            "_view_module_version": "1.2.0",
            "_view_name": "StyleView",
            "description_width": ""
          }
        }
      }
    }
  },
  "cells": [
    {
      "cell_type": "markdown",
      "source": [
        "# 1. Подготовка"
      ],
      "metadata": {
        "id": "eQ66rZA8woJf"
      }
    },
    {
      "cell_type": "markdown",
      "source": [
        "Проверим CPU"
      ],
      "metadata": {
        "id": "xxinnMDUwyK2"
      }
    },
    {
      "cell_type": "code",
      "source": [
        "!lscpu |grep 'Model name'"
      ],
      "metadata": {
        "colab": {
          "base_uri": "https://localhost:8080/"
        },
        "id": "WdVNxlJhwtiu",
        "outputId": "37d235dc-3a3b-456f-a0ca-a963b4e85a79"
      },
      "execution_count": 1,
      "outputs": [
        {
          "output_type": "stream",
          "name": "stdout",
          "text": [
            "Model name:          Intel(R) Xeon(R) CPU @ 2.20GHz\n"
          ]
        }
      ]
    },
    {
      "cell_type": "markdown",
      "source": [
        "Установка библиотеки для распознавания речи"
      ],
      "metadata": {
        "id": "4tR4d3LJxYSw"
      }
    },
    {
      "cell_type": "code",
      "source": [
        "!pip install SpeechRecognition==3.8.1"
      ],
      "metadata": {
        "colab": {
          "base_uri": "https://localhost:8080/"
        },
        "id": "rVmV8w_Bwx9X",
        "outputId": "73ff382f-ffaa-4b6e-cedf-f81f9898c7fe"
      },
      "execution_count": 2,
      "outputs": [
        {
          "output_type": "stream",
          "name": "stdout",
          "text": [
            "Looking in indexes: https://pypi.org/simple, https://us-python.pkg.dev/colab-wheels/public/simple/\n",
            "Collecting SpeechRecognition\n",
            "  Downloading SpeechRecognition-3.8.1-py2.py3-none-any.whl (32.8 MB)\n",
            "\u001b[K     |████████████████████████████████| 32.8 MB 1.2 MB/s \n",
            "\u001b[?25hInstalling collected packages: SpeechRecognition\n",
            "Successfully installed SpeechRecognition-3.8.1\n"
          ]
        }
      ]
    },
    {
      "cell_type": "markdown",
      "source": [
        "Импорт зависимостей"
      ],
      "metadata": {
        "id": "UPQ7p0uH57IG"
      }
    },
    {
      "cell_type": "code",
      "source": [
        "import time as t\n",
        "import os\n",
        "import speech_recognition as sr\n",
        "\n",
        "from evaluate import load "
      ],
      "metadata": {
        "id": "TvW0cXvwxifZ"
      },
      "execution_count": 79,
      "outputs": []
    },
    {
      "cell_type": "code",
      "source": [
        "!gdown 1BOoXkBL1FgrFO_7M_BMKmDduqij16maV\n",
        "!gdown 1GSUx2b2V2iapbW79InaIqtZUsIMDgWq2"
      ],
      "metadata": {
        "colab": {
          "base_uri": "https://localhost:8080/"
        },
        "id": "Zno4pEaTxidL",
        "outputId": "29c4444c-fd65-4d7d-b4e5-7afdd6c87991"
      },
      "execution_count": 4,
      "outputs": [
        {
          "output_type": "stream",
          "name": "stdout",
          "text": [
            "Downloading...\n",
            "From: https://drive.google.com/uc?id=1BOoXkBL1FgrFO_7M_BMKmDduqij16maV\n",
            "To: /content/test.wav\n",
            "100% 334k/334k [00:00<00:00, 66.7MB/s]\n",
            "Downloading...\n",
            "From: https://drive.google.com/uc?id=1GSUx2b2V2iapbW79InaIqtZUsIMDgWq2\n",
            "To: /content/tes2.wav\n",
            "100% 217k/217k [00:00<00:00, 89.9MB/s]\n"
          ]
        }
      ]
    },
    {
      "cell_type": "markdown",
      "source": [
        "# 2. Распознование текста"
      ],
      "metadata": {
        "id": "ooFycLX25y6U"
      }
    },
    {
      "cell_type": "code",
      "source": [
        "r = sr.Recognizer()"
      ],
      "metadata": {
        "id": "uNw_WEOKxibA"
      },
      "execution_count": 6,
      "outputs": []
    },
    {
      "cell_type": "markdown",
      "source": [
        "Функция для распознавания текста в аудиофайле"
      ],
      "metadata": {
        "id": "dDNaxsNq18_e"
      }
    },
    {
      "cell_type": "code",
      "source": [
        "def transript_file(file_path, language):\n",
        "  sample = sr.WavFile(file_path)\n",
        "  start_time = t.time()\n",
        "  with sample as audio:\n",
        "    content = r.record(audio)\n",
        "    r.adjust_for_ambient_noise(audio)\n",
        "  try:\n",
        "    text = r.recognize_google(content, language=language)\n",
        "    end_time = round((t.time() - start_time), 3)\n",
        "    return text, end_time\n",
        "  except Exception as e:\n",
        "    print(\"Возникла ошибка в процессе распознавания. Ошибка: \" + str(e))\n"
      ],
      "metadata": {
        "id": "JH9zGttoxiZF"
      },
      "execution_count": 68,
      "outputs": []
    },
    {
      "cell_type": "code",
      "source": [
        "text_1, work_time_1 = transript_file('/content/test.wav', 'ru-RU')\n",
        "print(f'Текст: {text_1}\\nЗатраченное время: {work_time_1} секунды')"
      ],
      "metadata": {
        "colab": {
          "base_uri": "https://localhost:8080/"
        },
        "id": "4ZHE6bfvxiW4",
        "outputId": "374d909f-2ed3-43ec-fefa-91f958f4ea01"
      },
      "execution_count": 73,
      "outputs": [
        {
          "output_type": "stream",
          "name": "stdout",
          "text": [
            "Текст: раз-два-три проверка связи 32 раз Как слышно Приём\n",
            "Затраченное время: 0.621 секунды\n"
          ]
        }
      ]
    },
    {
      "cell_type": "code",
      "source": [
        "text_2, work_time_2 = transript_file('/content/tes2.wav', 'ru-RU')\n",
        "print(f'Текст: {text_2}\\nЗатраченное время: {work_time_2} секунды')"
      ],
      "metadata": {
        "colab": {
          "base_uri": "https://localhost:8080/"
        },
        "id": "8gkXlBRoxiU4",
        "outputId": "2934e3ed-f351-4134-8f9e-23872e4cfffd"
      },
      "execution_count": 74,
      "outputs": [
        {
          "output_type": "stream",
          "name": "stdout",
          "text": [
            "Текст: так новая попытка попробую уговорить быстро если он невнятно возможно\n",
            "Затраченное время: 2.892 секунды\n"
          ]
        }
      ]
    },
    {
      "cell_type": "markdown",
      "source": [
        "# 3. Оценка распознавания"
      ],
      "metadata": {
        "id": "mCtb8ZOy6Gxq"
      }
    },
    {
      "cell_type": "markdown",
      "source": [
        "Для оценки распознавания воспользуемся метрикой WER\n",
        "\n",
        "0 - идеальное значение"
      ],
      "metadata": {
        "id": "fAlCJOJD6L4A"
      }
    },
    {
      "cell_type": "code",
      "source": [
        "wer = load(\"wer\")"
      ],
      "metadata": {
        "colab": {
          "base_uri": "https://localhost:8080/",
          "height": 49,
          "referenced_widgets": [
            "fba700f8a65a4f3b83712b66cd6ac8df",
            "25ba60ea0fc84032b8f689001ef50aba",
            "e652572ec4f24694879acd1ccd004189",
            "0f78f59f8ad245649cf1538e1cfe00e0",
            "0a86c4f8011e4c75874cc6b62620b0bb",
            "fa5a2bd522ad440a80a60b1e084da22c",
            "267c7eadb4c446daad0019b0013feea7",
            "5b5d1cbd9bf94462a572f3f082e35445",
            "cba18ea3718344dd97d1b3227de758a1",
            "7fff375003b649428b4442506c7cd090",
            "aa68ec121fc24aaab8334b6634c34503"
          ]
        },
        "id": "L6OZSB7T6wBj",
        "outputId": "b7af146c-e691-4b72-879c-68ecb4bca7c1"
      },
      "execution_count": 80,
      "outputs": [
        {
          "output_type": "display_data",
          "data": {
            "text/plain": [
              "Downloading builder script:   0%|          | 0.00/4.49k [00:00<?, ?B/s]"
            ],
            "application/vnd.jupyter.widget-view+json": {
              "version_major": 2,
              "version_minor": 0,
              "model_id": "fba700f8a65a4f3b83712b66cd6ac8df"
            }
          },
          "metadata": {}
        }
      ]
    },
    {
      "cell_type": "code",
      "source": [
        "predictions = [text_1]\n",
        "references = [\"раз два три проверка связи три два раз как слышно прием\"]\n",
        "wer_score = wer.compute(predictions=predictions, references=references)\n",
        "print(f'Результат первого распознавания: {wer_score}')"
      ],
      "metadata": {
        "colab": {
          "base_uri": "https://localhost:8080/"
        },
        "id": "9N4klD1X6pkf",
        "outputId": "8af75e6f-37b1-4968-edaa-8efc9735eaab"
      },
      "execution_count": 87,
      "outputs": [
        {
          "output_type": "stream",
          "name": "stdout",
          "text": [
            "Результат первого распознавания: 0.6363636363636364\n"
          ]
        }
      ]
    },
    {
      "cell_type": "code",
      "source": [
        "predictions = [text_2]\n",
        "references = [\"так новая попытка попробую поговорить быстро и совершенно невнятно посмотрим как она справится с этой ерундой\"]\n",
        "wer_score = wer.compute(predictions=predictions, references=references)\n",
        "print(f'Результат второго распознавания: {wer_score}')"
      ],
      "metadata": {
        "colab": {
          "base_uri": "https://localhost:8080/"
        },
        "id": "xfJK6fIT8OIJ",
        "outputId": "ac24e57e-8bd2-49d9-8521-34af7018a97d"
      },
      "execution_count": 88,
      "outputs": [
        {
          "output_type": "stream",
          "name": "stdout",
          "text": [
            "Результат второго распознавания: 0.625\n"
          ]
        }
      ]
    },
    {
      "cell_type": "markdown",
      "source": [
        "# 4. Вывод"
      ],
      "metadata": {
        "id": "gAELmr1W85eh"
      }
    },
    {
      "cell_type": "markdown",
      "source": [
        "Для медленной речи метрика получилась плохой, но это связано с дополнительными знаками припенания и текстовым представлением цифр, в тексте, который вернула модель.\n",
        "\n",
        "С быстрой речью speech_recognition справилась плохо, часть слов было не распознано"
      ],
      "metadata": {
        "id": "4FWeAb1L9jAj"
      }
    },
    {
      "cell_type": "code",
      "source": [],
      "metadata": {
        "id": "uTFhhBJL9jmj"
      },
      "execution_count": null,
      "outputs": []
    }
  ]
}